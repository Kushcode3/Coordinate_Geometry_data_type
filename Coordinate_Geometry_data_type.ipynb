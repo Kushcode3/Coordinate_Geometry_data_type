{
  "nbformat": 4,
  "nbformat_minor": 0,
  "metadata": {
    "colab": {
      "provenance": []
    },
    "kernelspec": {
      "name": "python3",
      "display_name": "Python 3"
    },
    "language_info": {
      "name": "python"
    }
  },
  "cells": [
    {
      "cell_type": "markdown",
      "source": [
        "We will create a Coordinate Geometry class to calculate the following:\n",
        "* To find distance between two points\n",
        "* To find distance of point from origin\n",
        "* To check if point lies on the line\n",
        "* Shortest distance between point and a line\n",
        "* Point of Intersection of two lines"
      ],
      "metadata": {
        "id": "gim_t0M6-rGH"
      }
    },
    {
      "cell_type": "code",
      "execution_count": 3,
      "metadata": {
        "id": "82JGHpfX91kp"
      },
      "outputs": [],
      "source": [
        "class Point:\n",
        "\n",
        "    def __init__(self,x,y):\n",
        "        self.x_cod = x\n",
        "        self.y_cod = y\n",
        "\n",
        "    def __str__(self):\n",
        "        return '<{},{}>'.format(self.x_cod,self.y_cod)\n",
        "\n",
        "    # To find distance between two points\n",
        "    def euclidean_distance(self,other):\n",
        "        return ((self.x_cod - other.x_cod)**2 + (self.y_cod - other.y_cod)**2)**0.5\n",
        "\n",
        "    # To find distance of point from origin\n",
        "    def distance_from_origin(self):\n",
        "        return self.euclidean_distance(Point(0,0))\n",
        "\n",
        "\n",
        "class Line:\n",
        "\n",
        "    def __init__(self,A,B,C):\n",
        "        self.A = A\n",
        "        self.B = B\n",
        "        self.C = C\n",
        "\n",
        "    def __str__(self):\n",
        "        if self.B < 0:\n",
        "            return 'Line: {}x - {}y + {} = 0'.format(self.A,abs(self.B),self.C)\n",
        "        elif self.B == 0:\n",
        "            return 'Line: {}x + {} = 0'.format(self.A,self.C)\n",
        "        elif self.C < 0:\n",
        "            return 'Line: {}x + {}y - {} = 0'.format(self.A,self.B,abs(self.C))\n",
        "        elif self.C == 0:\n",
        "            return 'Line: {}x + {}y = 0'.format(self.A,self.B)\n",
        "        elif self.A == 0:\n",
        "            return 'Line: {}y + {} = 0'.format(self.B,self.C)\n",
        "        elif self.B == 0 and self.C == 0:\n",
        "            return 'Line: {}x = 0'.format(self.A)\n",
        "        elif self.A == 0 and self.C == 0:\n",
        "            return 'Line: {}y = 0'.format(self.B)\n",
        "        elif self.B < 0 and self.C < 0:\n",
        "            return 'Line: {}x - {}y - {} = 0'.format(self.A,abs(self.B),abs(self.C))\n",
        "        else:\n",
        "            return 'Line: {}x + {}y + {} = 0'.format(self.A,self.B,self.C)\n",
        "\n",
        "    # To check if point lies on the line\n",
        "    def point_on_line(line,point):\n",
        "      if line.A*point.x_cod + line.B*point.y_cod + line.C == 0:\n",
        "        return \"Given point lies on the line\"\n",
        "      else:\n",
        "        return \"Given point does not lie on the line\"\n",
        "\n",
        "    # Shortest distance between point and a line\n",
        "    def shortest_distance(line,point):\n",
        "        return abs(line.A*point.x_cod + line.B*point.y_cod + line.C)/((line.A**2 + line.B**2)**0.5)\n",
        "\n",
        "    # Point of Intersection of two lines\n",
        "    def point_of_intersection(Line1,Line2):\n",
        "      if Line1.A/Line2.A != Line1.B/Line2.B:\n",
        "        x = (Line1.B*Line2.C - Line2.B*Line1.C)/(Line1.A*Line2.B - Line2.A*Line1.B)\n",
        "        y = (Line1.C*Line2.A - Line2.C*Line1.A)/(Line1.A*Line2.B - Line2.A*Line1.B)\n",
        "        return 'Point of intersection is <{},{}>'.format(x,y)\n",
        "      elif (Line1.A/Line2.A) == (Line1.B/Line2.B) != (Line1.C/Line2.C):\n",
        "        return 'Lines are parallel'\n",
        "      else:\n",
        "        (Line1.A/Line2.A) == (Line1.B/Line2.B) == (Line1.C/Line2.C)\n",
        "        return 'Lines are Coincident Line'"
      ]
    },
    {
      "cell_type": "code",
      "source": [
        "p1 = Point(1,5)\n",
        "p2 = Point(-2,-3)\n",
        "print(\"p1 =\", p1)\n",
        "print(\"p2 =\", p2)\n",
        "print(\"Euclidean distance between p1 and p2 =\", p1.euclidean_distance(p2))\n",
        "print(\"Distance of p1 from origin =\",p1.distance_from_origin())\n",
        "print(\"Distance of p2 from origin =\",p2.distance_from_origin())"
      ],
      "metadata": {
        "colab": {
          "base_uri": "https://localhost:8080/"
        },
        "id": "Yhff3ECNEleX",
        "outputId": "da8cb70f-9024-4636-f219-b5397be44099"
      },
      "execution_count": 4,
      "outputs": [
        {
          "output_type": "stream",
          "name": "stdout",
          "text": [
            "p1 = <1,5>\n",
            "p2 = <-2,-3>\n",
            "Euclidean distance between p1 and p2 = 8.54400374531753\n",
            "Distance of p1 from origin = 5.0990195135927845\n",
            "Distance of p2 from origin = 3.605551275463989\n"
          ]
        }
      ]
    },
    {
      "cell_type": "code",
      "source": [
        "L1 = Line(3,4,5)\n",
        "L2 = Line(2,-3,0)\n",
        "print(L1)\n",
        "print(L2)\n",
        "print(\"\\n\")\n",
        "p3 = Point(-1,-0.5)\n",
        "print(\"Does point {} lies on line {}: {}\".format(p1,L1,L1.point_on_line(p1)))\n",
        "print(\"Does point {} lies on line {}: {}\".format(p2,L1,L1.point_on_line(p2)))\n",
        "print(\"Does point {} lies on line {}: {}\".format(p3,L1,L1.point_on_line(p3)))\n",
        "print(\"\\n\")\n",
        "print(\"Shortest distance between Line: {} and point {} is {} \".format(L2,p1,L2.shortest_distance(p1)))\n",
        "print(\"Shortest distance between Line: {} and point {} is {} \".format(L1,p3,L1.shortest_distance(p3)))\n",
        "\n",
        "print(\"\\n\")\n",
        "print(L1.point_of_intersection(L2))"
      ],
      "metadata": {
        "colab": {
          "base_uri": "https://localhost:8080/"
        },
        "id": "XurbVvTDGeQU",
        "outputId": "ac7ad3ed-3361-44a7-bde0-ee4733e1b104"
      },
      "execution_count": 5,
      "outputs": [
        {
          "output_type": "stream",
          "name": "stdout",
          "text": [
            "Line: 3x + 4y + 5 = 0\n",
            "Line: 2x - 3y + 0 = 0\n",
            "\n",
            "\n",
            "Does point <1,5> lies on line Line: 3x + 4y + 5 = 0: Given point does not lie on the line\n",
            "Does point <-2,-3> lies on line Line: 3x + 4y + 5 = 0: Given point does not lie on the line\n",
            "Does point <-1,-0.5> lies on line Line: 3x + 4y + 5 = 0: Given point lies on the line\n",
            "\n",
            "\n",
            "Shortest distance between Line: Line: 2x - 3y + 0 = 0 and point <1,5> is 3.6055512754639896 \n",
            "Shortest distance between Line: Line: 3x + 4y + 5 = 0 and point <-1,-0.5> is 0.0 \n",
            "\n",
            "\n",
            "Point of intersection is <-0.8823529411764706,-0.5882352941176471>\n"
          ]
        }
      ]
    },
    {
      "cell_type": "code",
      "source": [],
      "metadata": {
        "id": "fGy6ycloIz2I"
      },
      "execution_count": 5,
      "outputs": []
    }
  ]
}